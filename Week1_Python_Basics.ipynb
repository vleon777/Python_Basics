{
  "nbformat": 4,
  "nbformat_minor": 0,
  "metadata": {
    "colab": {
      "provenance": [],
      "authorship_tag": "ABX9TyOAf9mxGqq3xguFFjsDXyl8",
      "include_colab_link": true
    },
    "kernelspec": {
      "name": "python3",
      "display_name": "Python 3"
    },
    "language_info": {
      "name": "python"
    }
  },
  "cells": [
    {
      "cell_type": "markdown",
      "metadata": {
        "id": "view-in-github",
        "colab_type": "text"
      },
      "source": [
        "<a href=\"https://colab.research.google.com/github/vleon777/Python_Basics/blob/main/Week1_Python_Basics.ipynb\" target=\"_parent\"><img src=\"https://colab.research.google.com/assets/colab-badge.svg\" alt=\"Open In Colab\"/></a>"
      ]
    },
    {
      "cell_type": "markdown",
      "source": [
        "Example: Making a list and selecting an item from it. To Remember: number 0 is the first index. Extra: If we use negative numbers starts from the end."
      ],
      "metadata": {
        "id": "cmGqhLFruo6f"
      }
    },
    {
      "cell_type": "code",
      "source": [
        "unic23 = [\"panda\", \"mariposa\", 187, \"Box\"]\n",
        "print (unic23[0])"
      ],
      "metadata": {
        "colab": {
          "base_uri": "https://localhost:8080/"
        },
        "id": "YNzEbhoitYi5",
        "outputId": "2055e95c-4ea9-4b85-9587-06cd080d26aa"
      },
      "execution_count": 29,
      "outputs": [
        {
          "output_type": "stream",
          "name": "stdout",
          "text": [
            "panda\n"
          ]
        }
      ]
    },
    {
      "cell_type": "markdown",
      "source": [
        " Part 1 – Exercises (Variables, Data Types, Operators)\n",
        " Part 1: Variables\n",
        "\n",
        "Create a variable with your name and another with your age.\n",
        "\n",
        "Print a message that uses both variables in the same sentence.\n",
        "\n",
        "Update the value of the “age” variable by adding 5, and print the message again."
      ],
      "metadata": {
        "id": "1u-uWvm1v0qD"
      }
    },
    {
      "cell_type": "code",
      "source": [
        "Name = \"Vicente\"\n",
        "Age = 30\n",
        "print (Name, Age)\n",
        "Age = Age + 5\n",
        "print (Name, Age)"
      ],
      "metadata": {
        "colab": {
          "base_uri": "https://localhost:8080/"
        },
        "id": "5bw1AzlGvLSe",
        "outputId": "f59789ce-a0aa-4060-9d19-547ec46d2fb0"
      },
      "execution_count": 25,
      "outputs": [
        {
          "output_type": "stream",
          "name": "stdout",
          "text": [
            "Vicente 30\n",
            "Vicente 35\n"
          ]
        }
      ]
    },
    {
      "cell_type": "markdown",
      "source": [
        "Part 2: Data Types\n",
        "\n",
        "Create 4 variables, each with a different type:\n",
        "\n",
        "String (text)\n",
        "\n",
        "Integer (whole number)\n",
        "\n",
        "Float (decimal number)\n",
        "\n",
        "Boolean (True/False)\n",
        "\n",
        "Use type() to show the type of each variable.\n",
        "\n",
        "Add a short comment in your notebook explaining when you would use each type.\n"
      ],
      "metadata": {
        "id": "YWmFIif8w39P"
      }
    },
    {
      "cell_type": "code",
      "source": [
        "dragon = \"dragon\"\n",
        "number = 7\n",
        "decimal = 4.9\n",
        "boolean = True\n",
        "print (type(dragon))\n",
        "print (type(number))\n",
        "print (type(decimal))\n",
        "print (type(boolean))"
      ],
      "metadata": {
        "colab": {
          "base_uri": "https://localhost:8080/"
        },
        "id": "ZJdJJeWXw2dI",
        "outputId": "f2372119-45b3-4bf1-d89e-6ea8dc9b2291"
      },
      "execution_count": 26,
      "outputs": [
        {
          "output_type": "stream",
          "name": "stdout",
          "text": [
            "<class 'str'>\n",
            "<class 'int'>\n",
            "<class 'float'>\n",
            "<class 'bool'>\n"
          ]
        }
      ]
    },
    {
      "cell_type": "markdown",
      "source": [
        "Part 3: Operators\n",
        "\n",
        "Create two numeric variables, for example a and b.\n",
        "\n",
        "Apply the following operators and print the result of each:\n",
        "\n",
        "Addition\n",
        "\n",
        "Subtraction\n",
        "\n",
        "Multiplication\n",
        "\n",
        "Division\n",
        "\n",
        "Floor division (integer division)\n",
        "\n",
        "Modulus (remainder of a division)\n",
        "\n",
        "Exponentiation\n",
        "\n"
      ],
      "metadata": {
        "id": "bPTj4SqEyzJE"
      }
    },
    {
      "cell_type": "code",
      "source": [
        "a = 13\n",
        "b = 7\n",
        "print (a +b)\n",
        "print (a -b)\n",
        "print (a *b)\n",
        "print (a /b)\n",
        "print (a //b)\n",
        "print (a % b)\n",
        "print (a ** b)"
      ],
      "metadata": {
        "colab": {
          "base_uri": "https://localhost:8080/"
        },
        "id": "V31Kufvny-3e",
        "outputId": "91822b4e-4937-4ee7-b938-95c7e556bdc4"
      },
      "execution_count": 36,
      "outputs": [
        {
          "output_type": "stream",
          "name": "stdout",
          "text": [
            "20\n",
            "6\n",
            "91\n",
            "1.8571428571428572\n",
            "1\n",
            "6\n",
            "62748517\n"
          ]
        }
      ]
    },
    {
      "cell_type": "markdown",
      "source": [
        "Part 4: Mini Project\n",
        "\n",
        "Ask the user to input their name and age (using input()).\n",
        "\n",
        "Store that information in variables.\n",
        "\n",
        "Print a message that says:\n",
        "\n",
        "\"Hello [name], next year you will be [age+1] years old.\"\n"
      ],
      "metadata": {
        "id": "l1be-Deq1CUx"
      }
    },
    {
      "cell_type": "code",
      "source": [
        "name = input(\"What is your name? \")\n",
        "age = input(\"What is your age? \")\n",
        "print (\"Hello\", name, \"next year you will be\", int(age) +1, \"years old.\")"
      ],
      "metadata": {
        "colab": {
          "base_uri": "https://localhost:8080/"
        },
        "id": "qavaUgSL1V1M",
        "outputId": "3324e425-8397-4703-e3ac-21adf980b41a"
      },
      "execution_count": 42,
      "outputs": [
        {
          "output_type": "stream",
          "name": "stdout",
          "text": [
            "What is your name? john\n",
            "What is your age? 12\n",
            "Hello john next year you will be 13 years old.\n"
          ]
        }
      ]
    },
    {
      "cell_type": "markdown",
      "source": [
        "we use int(age)+1 if we require integral numbers, dont use strings."
      ],
      "metadata": {
        "id": "C5n4yriw2WO0"
      }
    }
  ]
}