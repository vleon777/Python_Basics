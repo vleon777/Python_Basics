{
  "nbformat": 4,
  "nbformat_minor": 0,
  "metadata": {
    "colab": {
      "provenance": [],
      "authorship_tag": "ABX9TyP/76XafO/CBuFYmuiKeqRR",
      "include_colab_link": true
    },
    "kernelspec": {
      "name": "python3",
      "display_name": "Python 3"
    },
    "language_info": {
      "name": "python"
    }
  },
  "cells": [
    {
      "cell_type": "markdown",
      "metadata": {
        "id": "view-in-github",
        "colab_type": "text"
      },
      "source": [
        "<a href=\"https://colab.research.google.com/github/vleon777/Python_Basics/blob/main/week4_spam_classifier.ipynb\" target=\"_parent\"><img src=\"https://colab.research.google.com/assets/colab-badge.svg\" alt=\"Open In Colab\"/></a>"
      ]
    },
    {
      "cell_type": "markdown",
      "source": [
        " **Week 4 Proyect: Detect spam/not spam email**"
      ],
      "metadata": {
        "id": "GHiijIQakOcu"
      }
    },
    {
      "cell_type": "code",
      "execution_count": 7,
      "metadata": {
        "id": "_FYYkdNkjIev"
      },
      "outputs": [],
      "source": [
        "import pandas as pd\n",
        "from sklearn.model_selection import train_test_split\n",
        "from sklearn.feature_extraction.text import CountVectorizer\n",
        "from sklearn.naive_bayes import MultinomialNB\n",
        "from sklearn.metrics import accuracy_score, classification_report"
      ]
    },
    {
      "cell_type": "markdown",
      "source": [
        "pandas → handle the dataset.\n",
        "\n",
        "train_test_split → split into training and test sets.\n",
        "\n",
        "CountVectorizer → turn text into numbers (vectors).\n",
        "\n",
        "MultinomialNB → Naive Bayes model, great for text classification.\n",
        "\n",
        "accuracy_score, classification_report → evaluate the model."
      ],
      "metadata": {
        "id": "jiVlgqUVkv4V"
      }
    },
    {
      "cell_type": "code",
      "source": [
        "url = \"https://raw.githubusercontent.com/justmarkham/pycon-2016-tutorial/master/data/sms.tsv\"\n",
        "data = pd.read_csv(url, sep=\"\\t\", header=None, names=[\"label\", \"message\"])\n",
        "\n",
        "print(data.head())"
      ],
      "metadata": {
        "colab": {
          "base_uri": "https://localhost:8080/"
        },
        "id": "qz-KtmFLkx_q",
        "outputId": "19fa2b43-cb4f-48cd-cd0c-6b13c87acd49"
      },
      "execution_count": 8,
      "outputs": [
        {
          "output_type": "stream",
          "name": "stdout",
          "text": [
            "  label                                            message\n",
            "0   ham  Go until jurong point, crazy.. Available only ...\n",
            "1   ham                      Ok lar... Joking wif u oni...\n",
            "2  spam  Free entry in 2 a wkly comp to win FA Cup fina...\n",
            "3   ham  U dun say so early hor... U c already then say...\n",
            "4   ham  Nah I don't think he goes to usf, he lives aro...\n"
          ]
        }
      ]
    },
    {
      "cell_type": "markdown",
      "source": [
        "label = “ham” (not spam) or “spam”.\n",
        "\n",
        "message = the SMS/email text.\n",
        "data = pd.read_csv(url, sep=\"\\t\", header=None, names=[\"label\", \"message\"]): This line uses the read_csv function from the pandas library (pd) to read the data from the specified url.\n",
        "sep=\"\\t\": This argument tells read_csv that the values in the file are separated by tabs (\\t).\n",
        "header=None: This argument indicates that the file does not have a header row.\n",
        "names=[\"label\", \"message\"]: This argument provides a list of column names to use for the DataFrame (\"label\" and \"message\").\n",
        "The resulting DataFrame is stored in the variable data.\n",
        "After this line, the data DataFrame will contain the data from the URL with two columns named \"label\" and \"message\"."
      ],
      "metadata": {
        "id": "BWHsiIQmlk_7"
      }
    },
    {
      "cell_type": "code",
      "source": [
        "X = data[\"message\"]     # text messages\n",
        "y = data[\"label\"]       # spam or not spam\n",
        "\n",
        "X_train, X_test, y_train, y_test = train_test_split(X, y, test_size=0.2, random_state=42)\n",
        "\n",
        "# Machines can’t understand raw text — we transform it into vectors:\n",
        "\n",
        "vectorizer = CountVectorizer()\n",
        "X_train_counts = vectorizer.fit_transform(X_train)\n",
        "X_test_counts = vectorizer.transform(X_test)\n",
        "\n",
        "# Train The Model\n",
        "model = MultinomialNB()\n",
        "model.fit(X_train_counts, y_train)\n",
        "\n",
        "y_pred = model.predict(X_test_counts)\n",
        "\n",
        "print(\"Accuracy:\", accuracy_score(y_test, y_pred))\n",
        "print(\"\\nClassification Report:\\n\", classification_report(y_test, y_pred))\n",
        "\n",
        "# Example new messages\n",
        "new_messages = [\n",
        "    \"Congratulations! You won a free iPhone. Claim your prize now.\",\n",
        "    \"Hey, are we still meeting for coffee tomorrow?\",\n",
        "    \"Limited time offer!!! Buy 1 get 1 free.\",\n",
        "    \"My table is red\"\n",
        "]\n",
        "\n",
        "# Convert to numbers using the same vectorizer\n",
        "new_counts = vectorizer.transform(new_messages)\n",
        "\n",
        "# Predict\n",
        "predictions = model.predict(new_counts)\n",
        "\n",
        "# Show results\n",
        "for msg, pred in zip(new_messages, predictions):\n",
        "    print(f\"Message: {msg}\\nPrediction: {pred}\\n\")\n"
      ],
      "metadata": {
        "colab": {
          "base_uri": "https://localhost:8080/"
        },
        "id": "u7gxRD3qlq9B",
        "outputId": "8474c627-ed71-499c-a70d-9b31860bff71"
      },
      "execution_count": 9,
      "outputs": [
        {
          "output_type": "stream",
          "name": "stdout",
          "text": [
            "Accuracy: 0.9919282511210762\n",
            "\n",
            "Classification Report:\n",
            "               precision    recall  f1-score   support\n",
            "\n",
            "         ham       0.99      1.00      1.00       966\n",
            "        spam       1.00      0.94      0.97       149\n",
            "\n",
            "    accuracy                           0.99      1115\n",
            "   macro avg       1.00      0.97      0.98      1115\n",
            "weighted avg       0.99      0.99      0.99      1115\n",
            "\n",
            "Message: Congratulations! You won a free iPhone. Claim your prize now.\n",
            "Prediction: spam\n",
            "\n",
            "Message: Hey, are we still meeting for coffee tomorrow?\n",
            "Prediction: ham\n",
            "\n",
            "Message: Limited time offer!!! Buy 1 get 1 free.\n",
            "Prediction: ham\n",
            "\n",
            "Message: My table is red\n",
            "Prediction: ham\n",
            "\n"
          ]
        }
      ]
    }
  ]
}