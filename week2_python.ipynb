{
  "cells": [
    {
      "cell_type": "markdown",
      "metadata": {
        "id": "view-in-github",
        "colab_type": "text"
      },
      "source": [
        "<a href=\"https://colab.research.google.com/github/vleon777/Python_Basics/blob/main/week2_python.ipynb\" target=\"_parent\"><img src=\"https://colab.research.google.com/assets/colab-badge.svg\" alt=\"Open In Colab\"/></a>"
      ]
    },
    {
      "cell_type": "markdown",
      "metadata": {
        "id": "IQyEYmasBqAs"
      },
      "source": [
        "# Week 2 – Python Practice: Lists, Dictionaries, Functions\n",
        "\n",
        "---\n",
        "\n",
        "## Part 1: Lists\n",
        "1. Create a list with the names of 5 items (for example: products in a shop, or favorite foods).\n",
        "2. Print the first item and the last item in the list.\n",
        "3. Add a new item to the list.\n",
        "4. Remove one item from the list.\n",
        "5. Loop through the list and print each item.\n",
        "\n",
        "---\n"
      ],
      "id": "IQyEYmasBqAs"
    },
    {
      "cell_type": "code",
      "source": [
        "Products_shop = [\"steak\", \"hydrolites\", \"apples\", \"eggs\", \"milk\"]\n",
        "print (Products_shop [0])\n",
        "print (Products_shop [4])\n",
        "Products_shop.append(\"ham\")\n",
        "Products_shop.remove(\"eggs\")\n",
        "for x in Products_shop:\n",
        "  print (x)"
      ],
      "metadata": {
        "colab": {
          "base_uri": "https://localhost:8080/"
        },
        "id": "umStqY8QCL-3",
        "outputId": "307c0d94-8db9-4f13-b8ef-83f7d1158732"
      },
      "id": "umStqY8QCL-3",
      "execution_count": 2,
      "outputs": [
        {
          "output_type": "stream",
          "name": "stdout",
          "text": [
            "steak\n",
            "milk\n",
            "steak\n",
            "hydrolites\n",
            "apples\n",
            "milk\n",
            "ham\n"
          ]
        }
      ]
    },
    {
      "cell_type": "markdown",
      "source": [
        "This code is a for loop that iterates through each item in the Products_shop list. Prints every item in the list on a new line."
      ],
      "metadata": {
        "id": "QTSBD0fgFidZ"
      },
      "id": "QTSBD0fgFidZ"
    },
    {
      "cell_type": "markdown",
      "source": [
        "## Part 2: Dictionaries\n",
        "1. Create a dictionary to store information about a person (e.g., name, age, occupation).\n",
        "2. Access and print the value of one key (e.g., print the age).\n",
        "3. Add a new key-value pair (e.g., \"hobby\": \"surfing\").\n",
        "4. Update the value of an existing key (e.g., change the age).\n",
        "5. Remove one key from the dictionary."
      ],
      "metadata": {
        "id": "mxv0vPJhB7wT"
      },
      "id": "mxv0vPJhB7wT"
    },
    {
      "cell_type": "code",
      "source": [
        "name = input(\"what is your name ?\")\n",
        "age = input(\"what is your age ?\")\n",
        "occupation = input(\"what is your occupation ?\")\n",
        "person_info = {\"name\": name, \"age\": age, \"occupation\": occupation}\n",
        "print (person_info[\"age\"])\n",
        "person_info[\"hobby\"] = \"surfing\"\n",
        "person_info[\"age\"] = \"55\"\n",
        "person_info.pop(\"occupation\")\n",
        "print(person_info)"
      ],
      "metadata": {
        "colab": {
          "base_uri": "https://localhost:8080/"
        },
        "id": "NCsN6VUHAmv6",
        "outputId": "d885954d-b8e8-4ba2-f2b0-a236878975df"
      },
      "id": "NCsN6VUHAmv6",
      "execution_count": 11,
      "outputs": [
        {
          "output_type": "stream",
          "name": "stdout",
          "text": [
            "what is your name ?vinnie\n",
            "what is your age ?30\n",
            "what is your occupation ?manager\n",
            "30\n",
            "{'name': 'vinnie', 'age': '55', 'hobby': 'surfing'}\n"
          ]
        }
      ]
    },
    {
      "cell_type": "markdown",
      "source": [
        "## Part 3: Functions\n",
        "1. Write a function that takes two numbers as input and returns their sum.\n",
        "2. Write a function that takes a list as input and prints each item.\n",
        "3. Write a function that takes a dictionary and prints all keys and values.\n",
        "4. Bonus: Write a function that asks the user for their name and prints a personalized greeting.\n"
      ],
      "metadata": {
        "id": "QouPj_yvB8No"
      },
      "id": "QouPj_yvB8No"
    },
    {
      "cell_type": "code",
      "source": [
        "a = int(input(\"Insert a number \"))\n",
        "b = int(input(\"Insert a number \"))\n",
        "print(a+b)\n",
        "\n",
        "list_1 = [input(\"First item\"), input(\"Second item\"), input(\"Third item\")]\n",
        "for x in list_1:\n",
        "  print(x)\n",
        "\n",
        "Dict_1 = {\"City\":input(\"where do you live?\"), \"Postcode\":input(\"What is your postcode?\")}\n",
        "print(Dict_1)\n",
        "\n",
        "\n",
        "name = input(\"what is your name ?\")\n",
        "print(\"Hello \" + name + \" 5we meet at last !\")"
      ],
      "metadata": {
        "colab": {
          "base_uri": "https://localhost:8080/"
        },
        "id": "9WBBmTztFjeW",
        "outputId": "da965b8e-a9ff-4609-d5c3-ca93d4b1e789"
      },
      "id": "9WBBmTztFjeW",
      "execution_count": 24,
      "outputs": [
        {
          "output_type": "stream",
          "name": "stdout",
          "text": [
            "Insert a number 5\n",
            "Insert a number 5\n",
            "10\n",
            "First item5\n",
            "Second item\n",
            "Third item5\n",
            "5\n",
            "\n",
            "5\n",
            "where do you live?5\n",
            "What is your postcode?5\n",
            "{'City': '5', 'Postcode': '5'}\n",
            "what is your name ?5\n",
            "Hello 5 we meet at last !\n"
          ]
        }
      ]
    }
  ],
  "metadata": {
    "kernelspec": {
      "display_name": "Python 3",
      "language": "python",
      "name": "python3"
    },
    "language_info": {
      "name": "python",
      "version": "3.x"
    },
    "colab": {
      "provenance": [],
      "include_colab_link": true
    }
  },
  "nbformat": 4,
  "nbformat_minor": 5
}